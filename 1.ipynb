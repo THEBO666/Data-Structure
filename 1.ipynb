{
 "cells": [
  {
   "cell_type": "code",
   "execution_count": 4,
   "metadata": {},
   "outputs": [
    {
     "ename": "ValueError",
     "evalue": "Shapes of x (20,) and y (21,) are incompatible",
     "output_type": "error",
     "traceback": [
      "\u001b[1;31m---------------------------------------------------------------------------\u001b[0m",
      "\u001b[1;31mValueError\u001b[0m                                Traceback (most recent call last)",
      "Cell \u001b[1;32mIn[4], line 12\u001b[0m\n\u001b[0;32m      8\u001b[0m voltage \u001b[38;5;241m=\u001b[39m np\u001b[38;5;241m.\u001b[39marray([\u001b[38;5;241m1\u001b[39m, \u001b[38;5;241m1\u001b[39m, \u001b[38;5;241m1.2\u001b[39m, \u001b[38;5;241m1.6\u001b[39m, \u001b[38;5;241m2\u001b[39m, \u001b[38;5;241m3.2\u001b[39m, \u001b[38;5;241m4.6\u001b[39m, \u001b[38;5;241m4.8\u001b[39m, \u001b[38;5;241m4.9\u001b[39m, \u001b[38;5;241m5\u001b[39m,\n\u001b[0;32m      9\u001b[0m                     \u001b[38;5;241m4.8\u001b[39m, \u001b[38;5;241m4.2\u001b[39m, \u001b[38;5;241m4\u001b[39m, \u001b[38;5;241m1.6\u001b[39m, \u001b[38;5;241m1\u001b[39m, \u001b[38;5;241m1\u001b[39m, \u001b[38;5;241m1\u001b[39m, \u001b[38;5;241m1\u001b[39m, \u001b[38;5;241m1\u001b[39m, \u001b[38;5;241m1\u001b[39m,\u001b[38;5;241m1\u001b[39m])\n\u001b[0;32m     11\u001b[0m \u001b[38;5;66;03m# 使用样条插值创建平滑曲线\u001b[39;00m\n\u001b[1;32m---> 12\u001b[0m spl \u001b[38;5;241m=\u001b[39m \u001b[43mmake_interp_spline\u001b[49m\u001b[43m(\u001b[49m\u001b[43mfrequency\u001b[49m\u001b[43m,\u001b[49m\u001b[43m \u001b[49m\u001b[43mvoltage\u001b[49m\u001b[43m,\u001b[49m\u001b[43m \u001b[49m\u001b[43mk\u001b[49m\u001b[38;5;241;43m=\u001b[39;49m\u001b[38;5;241;43m3\u001b[39;49m\u001b[43m)\u001b[49m  \u001b[38;5;66;03m# k=3表示三次样条插值\u001b[39;00m\n\u001b[0;32m     13\u001b[0m frequency_new \u001b[38;5;241m=\u001b[39m np\u001b[38;5;241m.\u001b[39mlinspace(frequency\u001b[38;5;241m.\u001b[39mmin(), frequency\u001b[38;5;241m.\u001b[39mmax(), \u001b[38;5;241m500\u001b[39m)\n\u001b[0;32m     14\u001b[0m voltage_new \u001b[38;5;241m=\u001b[39m spl(frequency_new)\n",
      "File \u001b[1;32md:\\Anaconda\\envs\\pytorch\\lib\\site-packages\\scipy\\interpolate\\_bsplines.py:1294\u001b[0m, in \u001b[0;36mmake_interp_spline\u001b[1;34m(x, y, k, t, bc_type, axis, check_finite)\u001b[0m\n\u001b[0;32m   1291\u001b[0m     \u001b[38;5;28;01mraise\u001b[39;00m \u001b[38;5;167;01mValueError\u001b[39;00m(\u001b[38;5;124m\"\u001b[39m\u001b[38;5;124mFirst and last points does not match while \u001b[39m\u001b[38;5;124m\"\u001b[39m\n\u001b[0;32m   1292\u001b[0m                      \u001b[38;5;124m\"\u001b[39m\u001b[38;5;124mperiodic case expected\u001b[39m\u001b[38;5;124m\"\u001b[39m)\n\u001b[0;32m   1293\u001b[0m \u001b[38;5;28;01mif\u001b[39;00m x\u001b[38;5;241m.\u001b[39msize \u001b[38;5;241m!=\u001b[39m y\u001b[38;5;241m.\u001b[39mshape[\u001b[38;5;241m0\u001b[39m]:\n\u001b[1;32m-> 1294\u001b[0m     \u001b[38;5;28;01mraise\u001b[39;00m \u001b[38;5;167;01mValueError\u001b[39;00m(\u001b[38;5;124m'\u001b[39m\u001b[38;5;124mShapes of x \u001b[39m\u001b[38;5;132;01m{}\u001b[39;00m\u001b[38;5;124m and y \u001b[39m\u001b[38;5;132;01m{}\u001b[39;00m\u001b[38;5;124m are incompatible\u001b[39m\u001b[38;5;124m'\u001b[39m\n\u001b[0;32m   1295\u001b[0m                      \u001b[38;5;241m.\u001b[39mformat(x\u001b[38;5;241m.\u001b[39mshape, y\u001b[38;5;241m.\u001b[39mshape))\n\u001b[0;32m   1296\u001b[0m \u001b[38;5;28;01mif\u001b[39;00m np\u001b[38;5;241m.\u001b[39many(x[\u001b[38;5;241m1\u001b[39m:] \u001b[38;5;241m==\u001b[39m x[:\u001b[38;5;241m-\u001b[39m\u001b[38;5;241m1\u001b[39m]):\n\u001b[0;32m   1297\u001b[0m     \u001b[38;5;28;01mraise\u001b[39;00m \u001b[38;5;167;01mValueError\u001b[39;00m(\u001b[38;5;124m\"\u001b[39m\u001b[38;5;124mExpect x to not have duplicates\u001b[39m\u001b[38;5;124m\"\u001b[39m)\n",
      "\u001b[1;31mValueError\u001b[0m: Shapes of x (20,) and y (21,) are incompatible"
     ]
    }
   ],
   "source": [
    "import numpy as np\n",
    "import matplotlib.pyplot as plt\n",
    "from scipy.interpolate import make_interp_spline\n",
    "\n",
    "# 数据输入\n",
    "frequency = np.array([750, 775, 800, 840, 960, 900, 940, 950, 960, 970,\n",
    "                     980, 990, 1000, 1100, 1200, 1300, 1400, 1500, 1600, 1700])\n",
    "voltage = np.array([1, 1, 1.2, 1.6, 2, 3.2, 4.6, 4.8, 4.9, 5,\n",
    "                    4.8, 4.2, 4, 1.6, 1, 1, 1, 1, 1, 1])\n",
    "\n",
    "# 使用样条插值创建平滑曲线\n",
    "spl = make_interp_spline(frequency, voltage, k=3)  # k=3表示三次样条插值\n",
    "frequency_new = np.linspace(frequency.min(), frequency.max(), 500)\n",
    "voltage_new = spl(frequency_new)\n",
    "\n",
    "# 绘图\n",
    "plt.figure(figsize=(8, 6))\n",
    "plt.plot(frequency_new, voltage_new, label=\"平滑曲线\", color='b')\n",
    "plt.scatter(frequency, voltage, color='r', zorder=5, label=\"原始数据点\")  # 原始数据点\n",
    "plt.title(\"DDS输出信号频率与输出电压幅值关系图\")\n",
    "plt.xlabel(\"频率 (KHz)\")\n",
    "plt.ylabel(\"输出电压幅值 (V)\")\n",
    "plt.legend()\n",
    "plt.grid(True)\n",
    "plt.show()\n"
   ]
  }
 ],
 "metadata": {
  "kernelspec": {
   "display_name": "pytorch",
   "language": "python",
   "name": "python3"
  },
  "language_info": {
   "codemirror_mode": {
    "name": "ipython",
    "version": 3
   },
   "file_extension": ".py",
   "mimetype": "text/x-python",
   "name": "python",
   "nbconvert_exporter": "python",
   "pygments_lexer": "ipython3",
   "version": "3.10.0"
  }
 },
 "nbformat": 4,
 "nbformat_minor": 2
}
